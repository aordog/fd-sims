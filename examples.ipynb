{
 "cells": [
  {
   "cell_type": "code",
   "execution_count": null,
   "id": "4449d5e2-7702-47d0-9253-458dc279175e",
   "metadata": {},
   "outputs": [],
   "source": [
    "from qu_los_sim import make_los\n",
    "import numpy as np\n",
    "import matplotlib.pyplot as plt"
   ]
  },
  {
   "cell_type": "code",
   "execution_count": null,
   "id": "ad79a3b7-7ef6-462f-a62a-038e4516458d",
   "metadata": {},
   "outputs": [],
   "source": [
    "parameters = {\n",
    "              \"pi\"  : [1.0],\n",
    "              \"phi\" : [20.0],\n",
    "              \"psi\" : [10.0],\n",
    "              \"sig\" : [1.0],\n",
    "              \"dphi\": [0.0]\n",
    "            }\n",
    "freqs = np.arange(400e6,2000e6,0.5e6)\n"
   ]
  },
  {
   "cell_type": "code",
   "execution_count": null,
   "id": "cd96048e-5f60-4d09-889c-edc9b358df93",
   "metadata": {},
   "outputs": [],
   "source": [
    "results = make_los(parameters, freqs=freqs, noise=0.01, do_rmsynth=False)\n",
    "print(results.keys())\n"
   ]
  },
  {
   "cell_type": "code",
   "execution_count": null,
   "id": "f42649ee-f7c1-439e-ade9-13defad2d9cf",
   "metadata": {},
   "outputs": [],
   "source": [
    "plt.scatter(results['lsq'],results['pol'].real, s=1)\n",
    "plt.scatter(results['lsq'],results['pol'].imag, s=1)\n",
    "plt.scatter(results['lsq'],abs(results['pol']), s=1)\n"
   ]
  },
  {
   "cell_type": "code",
   "execution_count": null,
   "id": "87a7dabd-c69f-4b14-84b7-949ee7553901",
   "metadata": {},
   "outputs": [],
   "source": [
    "plt.plot(results['fdf_dirty'][1]['phiArr_radm2'], abs(results['fdf_dirty'][1]['dirtyFDF']))\n",
    "plt.xlim(-100,100)\n"
   ]
  }
 ],
 "metadata": {
  "kernelspec": {
   "display_name": "Python 3 (ipykernel)",
   "language": "python",
   "name": "python3"
  },
  "language_info": {
   "codemirror_mode": {
    "name": "ipython",
    "version": 3
   },
   "file_extension": ".py",
   "mimetype": "text/x-python",
   "name": "python",
   "nbconvert_exporter": "python",
   "pygments_lexer": "ipython3",
   "version": "3.11.7"
  }
 },
 "nbformat": 4,
 "nbformat_minor": 5
}
