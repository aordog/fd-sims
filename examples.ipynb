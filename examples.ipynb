{
 "cells": [
  {
   "cell_type": "markdown",
   "id": "a484b496-8f4b-48ca-96b4-8418d71d2ec8",
   "metadata": {},
   "source": [
    "## Examples for running LOS Q,U and RM synthesis simulation routine"
   ]
  },
  {
   "cell_type": "markdown",
   "id": "c275d8ff-2a99-4a92-9dac-3f0b636d4c63",
   "metadata": {},
   "source": [
    "### Necessary imports:"
   ]
  },
  {
   "cell_type": "code",
   "execution_count": null,
   "id": "3bb6bfb2-d1f6-436c-9e4f-d3e70d10e624",
   "metadata": {},
   "outputs": [],
   "source": [
    "from qu_los_sim import make_los\n",
    "import numpy as np\n",
    "import matplotlib.pyplot as plt"
   ]
  },
  {
   "cell_type": "markdown",
   "id": "863d9139-8692-4135-8669-2dce92041066",
   "metadata": {},
   "source": [
    "### Description available in help:"
   ]
  },
  {
   "cell_type": "code",
   "execution_count": null,
   "id": "4b56ce19-d36f-461a-a775-8d1ae9417cde",
   "metadata": {},
   "outputs": [],
   "source": [
    "help(make_los)"
   ]
  },
  {
   "cell_type": "markdown",
   "id": "7d8804a2-e4b8-47df-95d7-f046bdf9765a",
   "metadata": {},
   "source": [
    "### A plotting routine:"
   ]
  },
  {
   "cell_type": "code",
   "execution_count": null,
   "id": "61ef4eab-e733-4728-964a-61ef560e9c19",
   "metadata": {},
   "outputs": [],
   "source": [
    "def quick_plot(results):\n",
    "\n",
    "    fig, ax = plt.subplots(2,1,figsize=(12,10))\n",
    "\n",
    "    polangle = 0.5*np.arctan2(results['pol'].imag, results['pol'].real)\n",
    "    \n",
    "    ax[0].scatter(results['lsq'],abs(results['pol']), s=0.5)\n",
    "    ax[0].scatter(results['lsq'],results['pol'].real, s=0.5)\n",
    "    ax[0].scatter(results['lsq'],results['pol'].imag, s=0.5)\n",
    "    \n",
    "    ax2 = ax[0].twinx()\n",
    "    ax2.scatter(results['lsq'], polangle, color='red', s=0.5)\n",
    "    ax2.set_ylim(-np.pi/2,np.pi/2)\n",
    "\n",
    "    ax[0].set_xlabel(r'$\\lambda^2$ (m$^2$)')\n",
    "    ax[0].set_ylabel(r'Polarised intensity')\n",
    "    ax2.set_ylabel(r'Polarisation angle (rad)')\n",
    "    \n",
    "    ax[1].scatter(results['fdf_dirty'][1]['phiArr_radm2'], abs(results['fdf_dirty'][1]['dirtyFDF']),s=0.5)\n",
    "    ax[1].grid()\n",
    "    ax[1].set_xlabel(r'Faraday depth (rad m$^{-2}$)')\n",
    "    ax[1].set_ylabel(r'Polarised intensity')\n",
    "\n",
    "    return"
   ]
  },
  {
   "cell_type": "markdown",
   "id": "21d34270-5016-4ce0-aa50-77fdaba07374",
   "metadata": {},
   "source": [
    "### Overview:\n",
    "\n",
    "For each LOS the model is the sum of any number of components (j) of the form:\n",
    "\n",
    "$$p_j = p_{0,j} e^{2i(\\psi_{0,j}+\\phi_{0,j}\\lambda^2)} \\frac{\\sin(\\Delta \\phi_j \\lambda^2)}{\\Delta \\phi_j \\lambda^2}e^{-2\\sigma^2_j\\lambda^4}$$\n",
    "\n",
    "The following parameters must be defined in a dictionary:\n",
    "\n",
    " - $p_{0,j}$ = polarised intensity of the jth component in arbitrary units (\"pi\")\n",
    " - $\\phi_{0,j}$ = Faraday depth of the jth (screen) component in rad/m$^2$ (\"phi\")\n",
    " - $\\psi_{0,j}$ = Polarisation angle of the jth (screen) component in degrees (\"psi\")\n",
    " - $\\sigma_j$ = Burn depolarization of the jth component in rad/m$^2$ (\"sig\")\n",
    " - $\\Delta \\phi_j$ = Width of jth component Burn slab in rad/m$^2$ (\"dphi\")\n",
    "\n",
    "Set all non-required parameters to zero. For example, if only a Faraday screen is needed (no Burn slab), set \"dphi\" to zero.\n",
    "\n",
    "If multiple components along the LOS or within the telescope beam are to be modeled, populate the dictionary with lists of parameters. Each item in the list corresponds to a component to be modeled, and all components will be summed in complex polarization.\n",
    "\n",
    "Create a list of frequencies. This can be an equally spaced set of frequencies, unequally spaced, or with gaps to account for RFI, for example.\n",
    "\n",
    "When running the code for your LOS, the parameters will be summarized and the type(s) of model(s) these correspond to will be indicated."
   ]
  },
  {
   "cell_type": "markdown",
   "id": "e61dd154-a46a-407e-b48e-83daae0f4199",
   "metadata": {},
   "source": [
    "## (1) Examples with one Faraday depth screen"
   ]
  },
  {
   "cell_type": "markdown",
   "id": "2a6daa27-4c8e-42e3-a7b8-196231783e98",
   "metadata": {},
   "source": [
    "### Set up the parameters and frequency array"
   ]
  },
  {
   "cell_type": "code",
   "execution_count": null,
   "id": "48d1f197-2bee-4769-86ef-277692ee620e",
   "metadata": {},
   "outputs": [],
   "source": [
    "parameters = {\n",
    "              \"pi\"  : [1.0],  # PI of the one component\n",
    "              \"phi\" : [50.0], # Faraday depth of 50\n",
    "              \"psi\" : [10.0], # Polarization angle of 10 degrees\n",
    "              \"sig\" : [0.0],  # No Burn depolarization\n",
    "              \"dphi\": [0.0]   # No Burn slab\n",
    "            }\n",
    "freqs = np.arange(400e6,1800e6,0.5e6) # Frequencies covering 400 MHz to 1.8 GHz in steps of 0.5 MHz"
   ]
  },
  {
   "cell_type": "markdown",
   "id": "1cd60f23-def9-4bf5-a4b7-d5399b5941a9",
   "metadata": {},
   "source": [
    "### (a) No noise in data, uniform weights for RM synthesis:"
   ]
  },
  {
   "cell_type": "code",
   "execution_count": null,
   "id": "ad79a3b7-7ef6-462f-a62a-038e4516458d",
   "metadata": {},
   "outputs": [],
   "source": [
    "# Run the code with the above parameters and a value for the Gaussian noise, toggle RM synthesis on:\n",
    "results = make_los(parameters, \n",
    "                   freqs=freqs, \n",
    "                   do_rmsynth=True)\n",
    "\n",
    "# Display the output parameters available:\n",
    "print(results.keys())\n",
    "\n",
    "# Note: the RM synthesis results are stored in results['fdf_dirty'][1]:\n",
    "print(results['fdf_dirty'][1].keys())\n",
    "\n",
    "# Make some plots to summarize the results\n",
    "quick_plot(results)"
   ]
  },
  {
   "cell_type": "markdown",
   "id": "bea7cd84-804a-42c8-b542-6f8e8dee9eb5",
   "metadata": {},
   "source": [
    "### (b) Gaussian random noise (with same standard deviation in all channels), uniform weights for RM synthesis:"
   ]
  },
  {
   "cell_type": "code",
   "execution_count": null,
   "id": "8ee1fdaa-421d-4acf-be9f-7ae2daa5d39f",
   "metadata": {},
   "outputs": [],
   "source": [
    "results = make_los(parameters, \n",
    "                   freqs=freqs, \n",
    "                   q_noise_in=0.8, \n",
    "                   u_noise_in=0.8, \n",
    "                   do_rmsynth=True)\n",
    "\n",
    "quick_plot(results)\n"
   ]
  },
  {
   "cell_type": "markdown",
   "id": "7bc09366-bc4d-4945-95cc-a0a5f3e240c9",
   "metadata": {},
   "source": [
    "### (c) Frequency-dependent Gaussian random noise, uniform weights for RM synthesis:"
   ]
  },
  {
   "cell_type": "code",
   "execution_count": null,
   "id": "47ca3e89-aec6-4d52-a365-8164d3d32fae",
   "metadata": {},
   "outputs": [],
   "source": [
    "# Make array of q and u standard deviations for frequency-dependent noise\n",
    "q_noise_in = np.linspace(0.8,0.01,len(freqs))\n",
    "u_noise_in = np.linspace(0.8,0.01,len(freqs))\n",
    "\n",
    "# Feed these arrays instead of constants as previously\n",
    "results = make_los(parameters, \n",
    "                   freqs=freqs, \n",
    "                   q_noise_in=q_noise_in, \n",
    "                   u_noise_in=u_noise_in, \n",
    "                   do_rmsynth=True)\n",
    "\n",
    "quick_plot(results)\n"
   ]
  },
  {
   "cell_type": "markdown",
   "id": "0e329bb5-2801-48fe-9852-044b63bd3af3",
   "metadata": {},
   "source": [
    "### (d) Frequency-dependent Gaussian random noise, user-defined error estimate arrays for q and u:"
   ]
  },
  {
   "cell_type": "code",
   "execution_count": null,
   "id": "fe5493dd-32a9-4fb7-927c-e9c807d4c968",
   "metadata": {},
   "outputs": [],
   "source": [
    "# Make array of q and u standard deviations for frequency-dependent noise\n",
    "q_noise_in = np.linspace(0.8,0.01,len(freqs))\n",
    "u_noise_in = np.linspace(0.8,0.01,len(freqs))\n",
    "\n",
    "# Make frequency-dependent error estimates for q and u\n",
    "# Note: here, using same values as noise standard deviation, which makes sense \n",
    "# if the noise is known, but we can experiment with other estimates\n",
    "dq_in = np.linspace(0.8,0.01,len(freqs))\n",
    "du_in = np.linspace(0.8,0.01,len(freqs))\n",
    "\n",
    "# Feed in both noise and error estimate arrays:\n",
    "results = make_los(parameters, \n",
    "                   freqs=freqs, \n",
    "                   q_noise_in=q_noise_in, \n",
    "                   u_noise_in=u_noise_in,\n",
    "                   dq_in=dq_in, \n",
    "                   du_in=du_in, \n",
    "                   do_rmsynth=True)\n",
    "\n",
    "quick_plot(results)\n"
   ]
  },
  {
   "cell_type": "markdown",
   "id": "1b0988e8-ccb3-4b4b-9a3d-02abb39d838e",
   "metadata": {},
   "source": [
    "## (2) Examples with other Faraday depth configurations\n",
    "### Note: for all of these, using (low) Gaussian random noise and uniform weights for RM synthesis"
   ]
  },
  {
   "cell_type": "markdown",
   "id": "5cc212a6-5b46-4de7-a881-789dc645e5fd",
   "metadata": {},
   "source": [
    "### (a) Example with two Faraday depth screens:"
   ]
  },
  {
   "cell_type": "code",
   "execution_count": null,
   "id": "cd96048e-5f60-4d09-889c-edc9b358df93",
   "metadata": {},
   "outputs": [],
   "source": [
    "parameters = {\n",
    "              \"pi\"  : [  0.5,  0.4],  # PI of each of the two components\n",
    "              \"phi\" : [-60.0, 20.0], # Faraday depths of -60 and 20 for the two components\n",
    "              \"psi\" : [ 10.0, 40.0], # Polarization angles of 10 degrees and 40 degrees for the two components\n",
    "              \"sig\" : [  0.0,  0.0],  # No Burn depolarization\n",
    "              \"dphi\": [  0.0,  0.0]   # No Burn slab\n",
    "            }\n",
    "freqs = np.arange(400e6,1800e6,0.5e6) # Frequencies covering 400 MHz to 1.8 GHz in steps of 0.5 MHz\n",
    "\n",
    "results = make_los(parameters, \n",
    "                   freqs=freqs, \n",
    "                   q_noise_in=0.05, \n",
    "                   u_noise_in=0.05, \n",
    "                   do_rmsynth=True)\n",
    "\n",
    "quick_plot(results)\n"
   ]
  },
  {
   "cell_type": "markdown",
   "id": "dfe1c0e8-abad-4de5-8c8d-11b15f0a3705",
   "metadata": {},
   "source": [
    "### (b) Example with three Faraday depth screens:"
   ]
  },
  {
   "cell_type": "code",
   "execution_count": null,
   "id": "e8cc9915-55d5-4387-a52d-6a9f49848827",
   "metadata": {},
   "outputs": [],
   "source": [
    "parameters = {\n",
    "              \"pi\"  : [  0.5,  0.4, 0.1],  # PI of each of the three components\n",
    "              \"phi\" : [-60.0, 20.0, 40.0], # Faraday depths of -60 and 20 for the three components\n",
    "              \"psi\" : [ 10.0, 40.0, 30.0], # Polarization angles of 10, 40, 30 degrees for the three components\n",
    "              \"sig\" : [  0.0,  0.0,  0.0],  # No Burn depolarization\n",
    "              \"dphi\": [  0.0,  0.0,  0.0]   # No Burn slab\n",
    "            }\n",
    "freqs = np.arange(400e6,1800e6,0.5e6) # Frequencies covering 400 MHz to 1.8 GHz in steps of 0.5 MHz\n",
    "\n",
    "results = make_los(parameters, \n",
    "                   freqs=freqs, \n",
    "                   q_noise_in=0.05, \n",
    "                   u_noise_in=0.05, \n",
    "                   do_rmsynth=True)\n",
    "\n",
    "quick_plot(results)"
   ]
  },
  {
   "cell_type": "markdown",
   "id": "3824aa0b-4f24-4cad-bf18-7bddaf8ef166",
   "metadata": {},
   "source": [
    "### (c) Example with Burn slab:"
   ]
  },
  {
   "cell_type": "code",
   "execution_count": null,
   "id": "ae2485d3-9db8-4ff6-950f-8f903cd5e1a0",
   "metadata": {},
   "outputs": [],
   "source": [
    "parameters = {\n",
    "              \"pi\"  : [1.0],  # PI of the one component\n",
    "              \"phi\" : [50.0], # Faraday depth of 50 (for Burn slab, this defines centre FD)\n",
    "              \"psi\" : [10.0], # Polarization angle of 10 degrees\n",
    "              \"sig\" : [0.0],  # No Burn depolarization\n",
    "              \"dphi\": [100.0] # Burn slab of width 100 rad/m^2\n",
    "            }\n",
    "freqs = np.arange(400e6,1800e6,0.5e6) # Frequencies covering 400 MHz to 1.8 GHz in steps of 0.5 MHz\n",
    "\n",
    "results = make_los(parameters, \n",
    "                   freqs=freqs, \n",
    "                   q_noise_in=0.05, \n",
    "                   u_noise_in=0.05, \n",
    "                   do_rmsynth=True)\n",
    "\n",
    "quick_plot(results)"
   ]
  },
  {
   "cell_type": "markdown",
   "id": "336eb593-7416-40c5-8491-d302aa8b9271",
   "metadata": {},
   "source": [
    "### (d) Burn slab at DRAGONS frequencies:"
   ]
  },
  {
   "cell_type": "code",
   "execution_count": null,
   "id": "40764b62-e49a-48f8-a99e-c9a0afd5d614",
   "metadata": {},
   "outputs": [],
   "source": [
    "parameters = {\n",
    "              \"pi\"  : [1.0],  # PI of the one component\n",
    "              \"phi\" : [50.0], # Faraday depth of 50 (for Burn slab, this defines centre FD)\n",
    "              \"psi\" : [10.0], # Polarization angle of 10 degrees\n",
    "              \"sig\" : [0.0],  # No Burn depolarization\n",
    "              \"dphi\": [100.0] # Burn slab of width 100 rad/m^2\n",
    "            }\n",
    "freqs = np.arange(350e6,1030e6,1e6)\n",
    "\n",
    "results = make_los(parameters, \n",
    "                   freqs=freqs, \n",
    "                   q_noise_in=0.05, \n",
    "                   u_noise_in=0.05, \n",
    "                   do_rmsynth=True)\n",
    "\n",
    "quick_plot(results)"
   ]
  },
  {
   "cell_type": "markdown",
   "id": "b516835f-d2f3-402f-889b-d6475455b279",
   "metadata": {},
   "source": [
    "### (e) Burn slab at LOFAR frequencies:"
   ]
  },
  {
   "cell_type": "code",
   "execution_count": null,
   "id": "822f4a26-e217-41a1-bf22-fae86b1063f3",
   "metadata": {},
   "outputs": [],
   "source": [
    "parameters = {\n",
    "              \"pi\"  : [1.0],  # PI of the one component\n",
    "              \"phi\" : [50.0], # Faraday depth of 50 (for Burn slab, this defines centre FD)\n",
    "              \"psi\" : [10.0], # Polarization angle of 10 degrees\n",
    "              \"sig\" : [0.0],  # No Burn depolarization\n",
    "              \"dphi\": [100.0] # Burn slab of width 100 rad/m^2\n",
    "            }\n",
    "freqs = np.arange(120e6,170e6,5e3) \n",
    "\n",
    "results = make_los(parameters, \n",
    "                   freqs=freqs, \n",
    "                   q_noise_in=0.01, \n",
    "                   u_noise_in=0.01, \n",
    "                   do_rmsynth=True)\n",
    "\n",
    "quick_plot(results)"
   ]
  },
  {
   "cell_type": "code",
   "execution_count": null,
   "id": "9bd87d5e-b422-4afa-b05b-adbf2ef93a9c",
   "metadata": {},
   "outputs": [],
   "source": []
  },
  {
   "cell_type": "code",
   "execution_count": null,
   "id": "6164cb17-2483-4834-b945-f8a654aa73c3",
   "metadata": {},
   "outputs": [],
   "source": []
  }
 ],
 "metadata": {
  "kernelspec": {
   "display_name": "Python 3 (ipykernel)",
   "language": "python",
   "name": "python3"
  },
  "language_info": {
   "codemirror_mode": {
    "name": "ipython",
    "version": 3
   },
   "file_extension": ".py",
   "mimetype": "text/x-python",
   "name": "python",
   "nbconvert_exporter": "python",
   "pygments_lexer": "ipython3",
   "version": "3.11.8"
  }
 },
 "nbformat": 4,
 "nbformat_minor": 5
}
