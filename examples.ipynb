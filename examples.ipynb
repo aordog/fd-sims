{
 "cells": [
  {
   "cell_type": "code",
   "execution_count": null,
   "id": "4449d5e2-7702-47d0-9253-458dc279175e",
   "metadata": {},
   "outputs": [],
   "source": [
    "from qu_los_sim import make_los\n",
    "import numpy as np\n",
    "import matplotlib.pyplot as plt"
   ]
  },
  {
   "cell_type": "code",
   "execution_count": null,
   "id": "61ef4eab-e733-4728-964a-61ef560e9c19",
   "metadata": {},
   "outputs": [],
   "source": [
    "def quick_plot(results):\n",
    "\n",
    "    fig, ax = plt.subplots(2,1,figsize=(12,6))\n",
    "\n",
    "    \n",
    "    polangle = 0.5*np.arctan2(results['pol'].imag, results['pol'].real)\n",
    "    \n",
    "    ax[0].scatter(results['lsq'],abs(results['pol']), s=0.5)\n",
    "    ax.scatter(results['lsq'],results['pol'].real, s=0.5)\n",
    "    ax.scatter(results['lsq'],results['pol'].imag, s=0.5)\n",
    "    ax[0].set_xlim(0,0.15)\n",
    "    ax[0].set_ylim(0,1.1)\n",
    "    ax[0].axvline(x=(3e8/1403e6)**2,color='k',linewidth=1,linestyle='dashed')\n",
    "    ax[0].axvline(x=(3e8/1438e6)**2,color='k',linewidth=1,linestyle='dashed')\n",
    "    \n",
    "    ax2 = ax[0].twinx()\n",
    "    ax2.scatter(results['lsq'], polangle, color='red', s=0.5, alpha=0.5)\n",
    "    ax2.set_ylim(-np.pi/2,np.pi/2)\n",
    "\n",
    "    ax[0].set_xlabel(r'$\\lambda^2$ (m$^2$)')\n",
    "    ax[0].set_ylabel(r'Polarised intensity')\n",
    "    ax2.set_ylabel(r'Polarisation angle (rad)')\n",
    "    \n",
    "    ax[1].scatter(results['fdf_dirty'][1]['phiArr_radm2'], abs(results['fdf_dirty'][1]['dirtyFDF']),s=0.5)\n",
    "    ax[1].set_ylim(0,)\n",
    "    ax[1].set_xlim(-200,200)\n",
    "    ax[1].grid()\n",
    "    \n",
    "    ax[1].set_xlabel(r'Faraday depth (rad m$^{-2}$)')\n",
    "    ax[1].set_ylabel(r'Polarised intensity')\n",
    "\n",
    "    return"
   ]
  },
  {
   "cell_type": "markdown",
   "id": "21d34270-5016-4ce0-aa50-77fdaba07374",
   "metadata": {},
   "source": [
    "### Overview:\n",
    "\n",
    "For each LOS the model is the sum of any number of components (j) of the form:\n",
    "\n",
    "$$p_j = p_{0,j} e^{2i(\\psi_{0,j}+\\phi_{0,j}\\lambda^2)} \\frac{\\sin(\\Delta \\phi_j \\lambda^2)}{\\Delta \\phi_j \\lambda^2}e^{-2\\sigma^2_j\\lambda^4}$$\n",
    "\n",
    "The following parameters must be defined in a dictionary:\n",
    "\n",
    " - $p_{0,j}$ = polarised intensity of the jth component in arbitrary units (\"pi\")\n",
    " - $\\phi_{0,j}$ = Faraday depth of the jth (screen) component in rad/m$^2$ (\"phi\")\n",
    " - $\\psi_{0,j}$ = Polarisation angle of the jth (screen) component in degrees (\"psi\")\n",
    " - $\\sigma_j$ = Burn depolarization of the jth component in rad/m$^2$ (\"sig\")\n",
    " - $\\Delta \\phi_j$ = Width of jth component Burn slab in rad/m$^2$ (\"dphi\")\n",
    "\n",
    "Set all non-required parameters to zero. For example, if only a Faraday screen is needed (no Burn slab), set \"dphi\" to zero.\n",
    "\n",
    "If multiple components along the LOS or within the telescope beam are to be modeled, populate the dictionary with lists of parameters. Each item in the list corresponds to a component to be modeled, and all components will be summed in complex polarization.\n",
    "\n",
    "Create a list of frequencies. This can be an equally spaced set of frequencies, unequally spaced, or with gaps to account for RFI, for example.\n",
    "\n",
    "When running the code for your LOS, the parameters will be summarized and the type(s) of model(s) these correspond to will be indicated."
   ]
  },
  {
   "cell_type": "markdown",
   "id": "e61dd154-a46a-407e-b48e-83daae0f4199",
   "metadata": {},
   "source": [
    "### Example with one Faraday depth screen:"
   ]
  },
  {
   "cell_type": "code",
   "execution_count": null,
   "id": "ad79a3b7-7ef6-462f-a62a-038e4516458d",
   "metadata": {},
   "outputs": [],
   "source": [
    "parameters = {\n",
    "              \"pi\"  : [1.0],  # PI of the one component\n",
    "              \"phi\" : [20.0], # Faraday depth of 20\n",
    "              \"psi\" : [10.0], # Polarization angle of 10 degrees\n",
    "              \"sig\" : [0.0],  # No Burn depolarization\n",
    "              \"dphi\": [0.0]   # No Burn slab\n",
    "            }\n",
    "freqs = np.arange(400e6,2000e6,0.5e6) # Frequencies covering 400 MHz to 2 GHz in steps of 0.5 MHz\n",
    "\n",
    "# Run the code with the above parameters and a value for the Gaussian noise, toggle RM synthesis on:\n",
    "results = make_los(parameters, freqs=freqs, noise=0.01, do_rmsynth=False)\n",
    "\n",
    "print('')\n",
    "print(results.keys())"
   ]
  },
  {
   "cell_type": "code",
   "execution_count": null,
   "id": "cd96048e-5f60-4d09-889c-edc9b358df93",
   "metadata": {},
   "outputs": [],
   "source": [
    "quick_plot(results)\n",
    "\n"
   ]
  }
 ],
 "metadata": {
  "kernelspec": {
   "display_name": "Python 3 (ipykernel)",
   "language": "python",
   "name": "python3"
  },
  "language_info": {
   "codemirror_mode": {
    "name": "ipython",
    "version": 3
   },
   "file_extension": ".py",
   "mimetype": "text/x-python",
   "name": "python",
   "nbconvert_exporter": "python",
   "pygments_lexer": "ipython3",
   "version": "3.11.7"
  }
 },
 "nbformat": 4,
 "nbformat_minor": 5
}
